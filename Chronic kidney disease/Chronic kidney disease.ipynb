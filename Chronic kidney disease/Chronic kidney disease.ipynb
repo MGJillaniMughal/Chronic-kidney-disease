{
 "cells": [
  {
   "cell_type": "code",
   "execution_count": null,
   "id": "6aac0aff",
   "metadata": {},
   "outputs": [],
   "source": [
    "import numpy as np\n",
    "import pandas as pd\n",
    "import seaborn as sns\n",
    "from matplotlib import pyplot as plt"
   ]
  },
  {
   "cell_type": "code",
   "execution_count": null,
   "id": "54a6480b",
   "metadata": {},
   "outputs": [],
   "source": [
    "df=pd.read_csv('kidney_disease.csv')"
   ]
  },
  {
   "cell_type": "code",
   "execution_count": null,
   "id": "23673beb",
   "metadata": {},
   "outputs": [],
   "source": [
    "df.head()"
   ]
  },
  {
   "cell_type": "code",
   "execution_count": null,
   "id": "331d647a",
   "metadata": {},
   "outputs": [],
   "source": [
    "df.tail()"
   ]
  },
  {
   "cell_type": "code",
   "execution_count": null,
   "id": "cb5d7245",
   "metadata": {},
   "outputs": [],
   "source": [
    "columns=pd.read_csv('data_description.txt',sep='-')\n",
    "columns"
   ]
  },
  {
   "cell_type": "code",
   "execution_count": null,
   "id": "2435cabf",
   "metadata": {},
   "outputs": [],
   "source": [
    "columns=columns.reset_index()\n",
    "columns"
   ]
  },
  {
   "cell_type": "code",
   "execution_count": null,
   "id": "59935a99",
   "metadata": {},
   "outputs": [],
   "source": [
    "columns.columns=['cols','abb_col_names']\n",
    "columns"
   ]
  },
  {
   "cell_type": "code",
   "execution_count": null,
   "id": "c8ce6a11",
   "metadata": {},
   "outputs": [],
   "source": [
    "df.head()"
   ]
  },
  {
   "cell_type": "markdown",
   "id": "55f78ff2",
   "metadata": {},
   "source": [
    "# Columns name change "
   ]
  },
  {
   "cell_type": "code",
   "execution_count": null,
   "id": "667c128b",
   "metadata": {},
   "outputs": [],
   "source": [
    "df.columns=columns['abb_col_names'].values"
   ]
  },
  {
   "cell_type": "code",
   "execution_count": null,
   "id": "3e63ecfd",
   "metadata": {},
   "outputs": [],
   "source": [
    "df.head()"
   ]
  },
  {
   "cell_type": "code",
   "execution_count": null,
   "id": "8ce4448d",
   "metadata": {},
   "outputs": [],
   "source": [
    "df.dtypes"
   ]
  },
  {
   "cell_type": "markdown",
   "id": "43aa40c8",
   "metadata": {},
   "source": [
    "# COnvert Some Data types"
   ]
  },
  {
   "cell_type": "code",
   "execution_count": null,
   "id": "c021e192",
   "metadata": {},
   "outputs": [],
   "source": [
    "def Convert_dtype(df,feature):\n",
    "    df[feature]=pd.to_numeric(df[feature],errors='coerce')"
   ]
  },
  {
   "cell_type": "code",
   "execution_count": null,
   "id": "8498d982",
   "metadata": {},
   "outputs": [],
   "source": [
    "features=['packed cell volume','white blood cell count','red blood cell count']\n",
    "\n",
    "for feature in features:\n",
    "    Convert_dtype(df,feature)"
   ]
  },
  {
   "cell_type": "code",
   "execution_count": null,
   "id": "6677495c",
   "metadata": {},
   "outputs": [],
   "source": [
    "df.dtypes"
   ]
  },
  {
   "cell_type": "markdown",
   "id": "8f780c47",
   "metadata": {},
   "source": [
    "# Now Remove Some Columns"
   ]
  },
  {
   "cell_type": "code",
   "execution_count": null,
   "id": "94b7c0ab",
   "metadata": {},
   "outputs": [],
   "source": [
    "df.drop('id',axis=1,inplace=True)"
   ]
  },
  {
   "cell_type": "markdown",
   "id": "0cff3b03",
   "metadata": {},
   "source": [
    "# Now Caterigial data"
   ]
  },
  {
   "cell_type": "code",
   "execution_count": null,
   "id": "0e3d15d6",
   "metadata": {},
   "outputs": [],
   "source": [
    "def Extract_Cat_Num(df):\n",
    "    cat_col=[col for col in df.columns if df[col].dtype=='object']\n",
    "    num_col=[col for col in df.columns if df[col].dtype != 'object']\n",
    "    return cat_col,num_col"
   ]
  },
  {
   "cell_type": "code",
   "execution_count": null,
   "id": "378ba8c4",
   "metadata": {},
   "outputs": [],
   "source": [
    "cat_col,num_col=Extract_Cat_Num(df)"
   ]
  },
  {
   "cell_type": "code",
   "execution_count": null,
   "id": "e5528780",
   "metadata": {},
   "outputs": [],
   "source": [
    "cat_col"
   ]
  },
  {
   "cell_type": "code",
   "execution_count": null,
   "id": "799b5ddd",
   "metadata": {},
   "outputs": [],
   "source": [
    "num_col"
   ]
  },
  {
   "cell_type": "markdown",
   "id": "d1e2462d",
   "metadata": {},
   "source": [
    "# Check Dirtyness Of Data"
   ]
  },
  {
   "cell_type": "code",
   "execution_count": null,
   "id": "361cd262",
   "metadata": {},
   "outputs": [],
   "source": [
    "for col in cat_col:\n",
    "    print('{} has {} values' .format(col,df[col].unique()))\n",
    "    print('\\n')"
   ]
  },
  {
   "cell_type": "code",
   "execution_count": null,
   "id": "2b499ac8",
   "metadata": {},
   "outputs": [],
   "source": [
    "df['diabetes mellitus'].replace(to_replace={'\\tno':'no','\\tyes':'yes'},inplace=True)\n",
    "\n",
    "\n",
    "df['coronary artery disease']=df['coronary artery disease'].replace(to_replace={'\\tno':'no'})\n",
    "\n",
    "df['class']=df['class'].replace(to_replace='ckd\\t',value='ckd')"
   ]
  },
  {
   "cell_type": "code",
   "execution_count": null,
   "id": "cf7edac5",
   "metadata": {},
   "outputs": [],
   "source": [
    "for col in cat_col:\n",
    "    print('{} has {} values' .format(col,df[col].unique()))\n",
    "    print('\\n')"
   ]
  },
  {
   "cell_type": "code",
   "execution_count": null,
   "id": "fe140c4b",
   "metadata": {},
   "outputs": [],
   "source": []
  },
  {
   "cell_type": "markdown",
   "id": "85c404f6",
   "metadata": {},
   "source": [
    "# Now Valuazation"
   ]
  },
  {
   "cell_type": "code",
   "execution_count": null,
   "id": "7f05aca8",
   "metadata": {},
   "outputs": [],
   "source": [
    "len(num_col)"
   ]
  },
  {
   "cell_type": "code",
   "execution_count": null,
   "id": "8add4659",
   "metadata": {},
   "outputs": [],
   "source": [
    "plt.figure(figsize=(30,20))\n",
    "\n",
    "for i,feature in enumerate(num_col):\n",
    "    plt.subplot(5,4,i+1) # i+1 by default i value is 0\n",
    "    df[feature].hist()\n",
    "    plt.title(feature)"
   ]
  },
  {
   "cell_type": "markdown",
   "id": "993c9ed0",
   "metadata": {},
   "source": [
    "# Now Lable Distribution of catergial data"
   ]
  },
  {
   "cell_type": "raw",
   "id": "a52ef860",
   "metadata": {},
   "source": [
    "# ckd= chronic kedney disease,nockd = chronic kedney disease"
   ]
  },
  {
   "cell_type": "code",
   "execution_count": null,
   "id": "76ad5451",
   "metadata": {},
   "outputs": [],
   "source": [
    "len(cat_col)"
   ]
  },
  {
   "cell_type": "code",
   "execution_count": null,
   "id": "33b8ecfa",
   "metadata": {},
   "outputs": [],
   "source": [
    "plt.figure(figsize=(20,20))\n",
    "\n",
    "for i,feature in enumerate(cat_col):\n",
    "    plt.subplot(5,4,i+1)\n",
    "    sns.countplot(df[feature])"
   ]
  },
  {
   "cell_type": "markdown",
   "id": "5fd6d705",
   "metadata": {},
   "source": [
    "# Now Target Data"
   ]
  },
  {
   "cell_type": "code",
   "execution_count": null,
   "id": "f61ab579",
   "metadata": {},
   "outputs": [],
   "source": [
    "sns.countplot(df['class'])"
   ]
  },
  {
   "cell_type": "markdown",
   "id": "6e62e84a",
   "metadata": {},
   "source": [
    "# Now Check Corelate of my feature"
   ]
  },
  {
   "cell_type": "code",
   "execution_count": null,
   "id": "ce252e3d",
   "metadata": {},
   "outputs": [],
   "source": [
    "df.corr()"
   ]
  },
  {
   "cell_type": "code",
   "execution_count": null,
   "id": "b9031fa8",
   "metadata": {},
   "outputs": [],
   "source": [
    "plt.figure(figsize=(20,16))\n",
    "sns.heatmap(df.corr(),annot=True)"
   ]
  },
  {
   "cell_type": "code",
   "execution_count": null,
   "id": "c88a549e",
   "metadata": {},
   "outputs": [],
   "source": [
    "df.groupby(['red blood cells','class'])['red blood cell count'].agg(['count','mean','median','min','max'])"
   ]
  },
  {
   "cell_type": "code",
   "execution_count": null,
   "id": "b1c6f41c",
   "metadata": {},
   "outputs": [],
   "source": [
    "import plotly.express as px"
   ]
  },
  {
   "cell_type": "code",
   "execution_count": null,
   "id": "8d164edb",
   "metadata": {},
   "outputs": [],
   "source": [
    "df.columns"
   ]
  },
  {
   "cell_type": "code",
   "execution_count": null,
   "id": "68cb7dec",
   "metadata": {},
   "outputs": [],
   "source": [
    "px.violin(df,y='red blood cell count', x= 'class',color='class')"
   ]
  },
  {
   "cell_type": "code",
   "execution_count": null,
   "id": "b6c404f4",
   "metadata": {},
   "outputs": [],
   "source": [
    "df.columns"
   ]
  },
  {
   "cell_type": "markdown",
   "id": "49527cbc",
   "metadata": {},
   "source": [
    "# FInd Relationship b/w homogolbn and packed cell valume"
   ]
  },
  {
   "cell_type": "markdown",
   "id": "862376e2",
   "metadata": {},
   "source": [
    "px.scatter(df,x='haemoglobin',y='packed cell volume')"
   ]
  },
  {
   "cell_type": "markdown",
   "id": "c40e1444",
   "metadata": {},
   "source": [
    "# Now Chorinc and no chorinc distribution"
   ]
  },
  {
   "cell_type": "code",
   "execution_count": null,
   "id": "46870b68",
   "metadata": {},
   "outputs": [],
   "source": [
    "grid=sns.FacetGrid(df,hue='class',aspect=3)\n",
    "grid.map(sns.kdeplot,'red blood cell count')\n",
    "grid.add_legend()"
   ]
  },
  {
   "cell_type": "markdown",
   "id": "644743fa",
   "metadata": {},
   "source": [
    "# Now Automate anaylise"
   ]
  },
  {
   "cell_type": "code",
   "execution_count": null,
   "id": "e08ccd9b",
   "metadata": {},
   "outputs": [],
   "source": [
    "def violin(col):\n",
    "    fig=px.violin(df,y=col,x='class',color='class',box=True)\n",
    "    return fig.show()"
   ]
  },
  {
   "cell_type": "code",
   "execution_count": null,
   "id": "254c8c06",
   "metadata": {},
   "outputs": [],
   "source": [
    "def scatter(col1,col2):\n",
    "    fig=px.scatter(df,x=col1,y=col2,color='class')\n",
    "    return fig.show()"
   ]
  },
  {
   "cell_type": "code",
   "execution_count": null,
   "id": "3f9556cc",
   "metadata": {},
   "outputs": [],
   "source": [
    "def kde_plot(feature):\n",
    "    grid=sns.FacetGrid(df,hue='class',aspect=3)\n",
    "    grid.map(sns.kdeplot,feature)\n",
    "    grid.add_legend()"
   ]
  },
  {
   "cell_type": "code",
   "execution_count": null,
   "id": "169b749a",
   "metadata": {},
   "outputs": [],
   "source": [
    "kde_plot('red blood cell count')"
   ]
  },
  {
   "cell_type": "code",
   "execution_count": null,
   "id": "0bd2b011",
   "metadata": {},
   "outputs": [],
   "source": [
    "kde_plot('haemoglobin')"
   ]
  },
  {
   "cell_type": "markdown",
   "id": "c5b24995",
   "metadata": {},
   "source": [
    "# Now see Relationship between features"
   ]
  },
  {
   "cell_type": "code",
   "execution_count": null,
   "id": "6fafdb83",
   "metadata": {},
   "outputs": [],
   "source": [
    "scatter('red blood cell count','packed cell volume')"
   ]
  },
  {
   "cell_type": "code",
   "execution_count": null,
   "id": "5815fef8",
   "metadata": {},
   "outputs": [],
   "source": [
    "scatter('red blood cell count','haemoglobin')"
   ]
  },
  {
   "cell_type": "code",
   "execution_count": null,
   "id": "52f580ca",
   "metadata": {},
   "outputs": [],
   "source": [
    "scatter('haemoglobin','packed cell volume')"
   ]
  },
  {
   "cell_type": "code",
   "execution_count": null,
   "id": "6d2e24ca",
   "metadata": {},
   "outputs": [],
   "source": [
    "violin('red blood cell count')"
   ]
  },
  {
   "cell_type": "code",
   "execution_count": null,
   "id": "63d1b6c4",
   "metadata": {},
   "outputs": [],
   "source": [
    "violin('packed cell volume')"
   ]
  },
  {
   "cell_type": "code",
   "execution_count": null,
   "id": "8b45c208",
   "metadata": {},
   "outputs": [],
   "source": [
    "scatter('red blood cell count','albumin')"
   ]
  },
  {
   "cell_type": "markdown",
   "id": "c59ad3dc",
   "metadata": {},
   "source": [
    "# Perfome EDA "
   ]
  },
  {
   "cell_type": "raw",
   "id": "2503b83e",
   "metadata": {},
   "source": [
    "# Missing value"
   ]
  },
  {
   "cell_type": "code",
   "execution_count": null,
   "id": "b19a88c0",
   "metadata": {},
   "outputs": [],
   "source": [
    "df.isna().sum()"
   ]
  },
  {
   "cell_type": "code",
   "execution_count": null,
   "id": "66db2556",
   "metadata": {},
   "outputs": [],
   "source": [
    "df.isna().sum().sort_values()"
   ]
  },
  {
   "cell_type": "markdown",
   "id": "b54fcd1d",
   "metadata": {},
   "source": [
    "# Fill missing value with Random Values"
   ]
  },
  {
   "cell_type": "code",
   "execution_count": null,
   "id": "d6894393",
   "metadata": {},
   "outputs": [],
   "source": [
    "def Random_Value_imputation(feature):\n",
    "    random_sample=df[feature].dropna().sample(df[feature].isnull().sum())\n",
    "    random_sample.index=df[df[feature].isnull()].index\n",
    "    df.loc[df[feature].isnull(),feature]=random_sample"
   ]
  },
  {
   "cell_type": "code",
   "execution_count": null,
   "id": "79646823",
   "metadata": {},
   "outputs": [],
   "source": [
    "df[num_col].isnull().sum()"
   ]
  },
  {
   "cell_type": "code",
   "execution_count": null,
   "id": "bb9bbb98",
   "metadata": {},
   "outputs": [],
   "source": [
    "for col in num_col:\n",
    "    Random_Value_imputation(col)"
   ]
  },
  {
   "cell_type": "code",
   "execution_count": null,
   "id": "f5ff632c",
   "metadata": {},
   "outputs": [],
   "source": [
    "df[num_col].isnull().sum()"
   ]
  },
  {
   "cell_type": "code",
   "execution_count": null,
   "id": "a4ad764f",
   "metadata": {},
   "outputs": [],
   "source": [
    "df[cat_col].isnull().sum()"
   ]
  },
  {
   "cell_type": "code",
   "execution_count": null,
   "id": "223caaa2",
   "metadata": {},
   "outputs": [],
   "source": [
    "Random_Value_imputation('red blood cells')\n",
    "Random_Value_imputation(' pus cell')"
   ]
  },
  {
   "cell_type": "code",
   "execution_count": null,
   "id": "f4f3410b",
   "metadata": {},
   "outputs": [],
   "source": [
    "df[cat_col].isnull().sum()"
   ]
  },
  {
   "cell_type": "code",
   "execution_count": null,
   "id": "628d8857",
   "metadata": {},
   "outputs": [],
   "source": [
    "def impute_mode(feature):\n",
    "    mode=df[feature].mode()[0]\n",
    "    df[feature]=df[feature].fillna(mode).fillna(mode)"
   ]
  },
  {
   "cell_type": "code",
   "execution_count": null,
   "id": "8e578363",
   "metadata": {},
   "outputs": [],
   "source": [
    "for col in cat_col:\n",
    "    impute_mode(col)"
   ]
  },
  {
   "cell_type": "code",
   "execution_count": null,
   "id": "3996f87b",
   "metadata": {},
   "outputs": [],
   "source": [
    "df[cat_col].isnull().sum()"
   ]
  },
  {
   "cell_type": "code",
   "execution_count": null,
   "id": "1edf26b0",
   "metadata": {},
   "outputs": [],
   "source": [
    "df.head()"
   ]
  },
  {
   "cell_type": "markdown",
   "id": "18a0c8f1",
   "metadata": {},
   "source": [
    "# Now Fuature Encoding \n"
   ]
  },
  {
   "cell_type": "code",
   "execution_count": null,
   "id": "bbe1fe02",
   "metadata": {},
   "outputs": [],
   "source": [
    "for col in cat_col:\n",
    "    print('{} has {} categories '.format(col,df[col].nunique()))"
   ]
  },
  {
   "cell_type": "markdown",
   "id": "4ceb61b1",
   "metadata": {},
   "source": [
    "# Now Label Encoding"
   ]
  },
  {
   "cell_type": "code",
   "execution_count": null,
   "id": "06291a12",
   "metadata": {},
   "outputs": [],
   "source": [
    "from sklearn.preprocessing import LabelEncoder"
   ]
  },
  {
   "cell_type": "code",
   "execution_count": null,
   "id": "c103d429",
   "metadata": {},
   "outputs": [],
   "source": [
    "le=LabelEncoder()"
   ]
  },
  {
   "cell_type": "code",
   "execution_count": null,
   "id": "f2755948",
   "metadata": {},
   "outputs": [],
   "source": [
    "for col in cat_col:\n",
    "    df[col]=le.fit_transform(df[col])"
   ]
  },
  {
   "cell_type": "code",
   "execution_count": null,
   "id": "1f1f02c9",
   "metadata": {},
   "outputs": [],
   "source": [
    "df.head()"
   ]
  },
  {
   "cell_type": "code",
   "execution_count": null,
   "id": "ef07babf",
   "metadata": {},
   "outputs": [],
   "source": [
    "from sklearn.feature_selection import SelectKBest\n",
    "from sklearn.feature_selection import chi2"
   ]
  },
  {
   "cell_type": "code",
   "execution_count": null,
   "id": "7e8c1dde",
   "metadata": {},
   "outputs": [],
   "source": [
    "ind_col=[col for col in df.columns if col != 'class']\n",
    "dep_col='class'"
   ]
  },
  {
   "cell_type": "code",
   "execution_count": null,
   "id": "539e2227",
   "metadata": {},
   "outputs": [],
   "source": [
    "X=df[ind_col]\n",
    "y=df[dep_col]"
   ]
  },
  {
   "cell_type": "code",
   "execution_count": null,
   "id": "d1bb2481",
   "metadata": {},
   "outputs": [],
   "source": [
    "X.head()"
   ]
  },
  {
   "cell_type": "code",
   "execution_count": null,
   "id": "6d77dbbb",
   "metadata": {},
   "outputs": [],
   "source": [
    "y.head()"
   ]
  },
  {
   "cell_type": "code",
   "execution_count": null,
   "id": "dc1bac47",
   "metadata": {},
   "outputs": [],
   "source": [
    "ordered_rank_features=SelectKBest(score_func=chi2,k=20)\n",
    "ordered_feature=ordered_rank_features.fit(X,y)"
   ]
  },
  {
   "cell_type": "code",
   "execution_count": null,
   "id": "e9847c74",
   "metadata": {},
   "outputs": [],
   "source": [
    "ordered_feature"
   ]
  },
  {
   "cell_type": "code",
   "execution_count": null,
   "id": "a83fd364",
   "metadata": {},
   "outputs": [],
   "source": [
    "ordered_feature.scores_"
   ]
  },
  {
   "cell_type": "code",
   "execution_count": null,
   "id": "407430fa",
   "metadata": {},
   "outputs": [],
   "source": [
    "df_scores=pd.DataFrame(ordered_feature.scores_,columns=['Score'])"
   ]
  },
  {
   "cell_type": "code",
   "execution_count": null,
   "id": "d597ede6",
   "metadata": {},
   "outputs": [],
   "source": [
    "df_scores"
   ]
  },
  {
   "cell_type": "code",
   "execution_count": null,
   "id": "93677449",
   "metadata": {},
   "outputs": [],
   "source": [
    "dfcols=pd.DataFrame(X.columns)\n",
    "dfcols"
   ]
  },
  {
   "cell_type": "code",
   "execution_count": null,
   "id": "3f6d5860",
   "metadata": {},
   "outputs": [],
   "source": [
    "feature_rank=pd.concat([dfcols,df_scores],axis=1)"
   ]
  },
  {
   "cell_type": "code",
   "execution_count": null,
   "id": "34ceec29",
   "metadata": {},
   "outputs": [],
   "source": [
    "feature_rank"
   ]
  },
  {
   "cell_type": "code",
   "execution_count": null,
   "id": "bdd21bd5",
   "metadata": {},
   "outputs": [],
   "source": [
    "feature_rank.describe()"
   ]
  },
  {
   "cell_type": "code",
   "execution_count": null,
   "id": "4ea832c1",
   "metadata": {},
   "outputs": [],
   "source": [
    "feature_rank.columns=['features','Score']\n",
    "feature_rank"
   ]
  },
  {
   "cell_type": "code",
   "execution_count": null,
   "id": "81e0769b",
   "metadata": {},
   "outputs": [],
   "source": [
    "feature_rank.nlargest(10,'Score') # Top 10 Features"
   ]
  },
  {
   "cell_type": "code",
   "execution_count": null,
   "id": "15e17f57",
   "metadata": {},
   "outputs": [],
   "source": [
    "selected_col=feature_rank.nlargest(10,'Score')['features'].values"
   ]
  },
  {
   "cell_type": "code",
   "execution_count": null,
   "id": "a67c30eb",
   "metadata": {},
   "outputs": [],
   "source": [
    "selected_col"
   ]
  },
  {
   "cell_type": "code",
   "execution_count": null,
   "id": "8e57f63e",
   "metadata": {},
   "outputs": [],
   "source": [
    "X_new=df[selected_col]"
   ]
  },
  {
   "cell_type": "code",
   "execution_count": null,
   "id": "de109ba5",
   "metadata": {},
   "outputs": [],
   "source": [
    "X_new"
   ]
  },
  {
   "cell_type": "code",
   "execution_count": null,
   "id": "192e3d20",
   "metadata": {},
   "outputs": [],
   "source": [
    "len(X_new)"
   ]
  },
  {
   "cell_type": "code",
   "execution_count": null,
   "id": "53142c2d",
   "metadata": {},
   "outputs": [],
   "source": [
    "X_new.shape"
   ]
  },
  {
   "cell_type": "code",
   "execution_count": null,
   "id": "dbf2f43f",
   "metadata": {},
   "outputs": [],
   "source": [
    "from sklearn.model_selection import train_test_split"
   ]
  },
  {
   "cell_type": "code",
   "execution_count": null,
   "id": "9fb1e044",
   "metadata": {},
   "outputs": [],
   "source": [
    "X_train,X_test,y_train,y_test=train_test_split(X_new,y,random_state=0,test_size=0.25)"
   ]
  },
  {
   "cell_type": "code",
   "execution_count": null,
   "id": "59ea7d0e",
   "metadata": {},
   "outputs": [],
   "source": [
    "print(X_train.shape)"
   ]
  },
  {
   "cell_type": "code",
   "execution_count": null,
   "id": "705ff76a",
   "metadata": {},
   "outputs": [],
   "source": [
    "print(X_test.shape)"
   ]
  },
  {
   "cell_type": "code",
   "execution_count": null,
   "id": "8d04aba7",
   "metadata": {},
   "outputs": [],
   "source": [
    "y_train.value_counts()"
   ]
  },
  {
   "cell_type": "markdown",
   "id": "5185dd02",
   "metadata": {},
   "source": [
    "# XG bost Model"
   ]
  },
  {
   "cell_type": "code",
   "execution_count": null,
   "id": "3d03152f",
   "metadata": {},
   "outputs": [],
   "source": [
    "from xgboost import XGBClassifier"
   ]
  },
  {
   "cell_type": "code",
   "execution_count": null,
   "id": "970f293f",
   "metadata": {},
   "outputs": [],
   "source": [
    "XGBClassifier()"
   ]
  },
  {
   "cell_type": "code",
   "execution_count": null,
   "id": "6590bdab",
   "metadata": {},
   "outputs": [],
   "source": [
    "# Hyper Tune"
   ]
  },
  {
   "cell_type": "code",
   "execution_count": null,
   "id": "313f10ba",
   "metadata": {},
   "outputs": [],
   "source": [
    "params={\n",
    "    'learning_rate':[0.05,0.20,0.25],\n",
    "    'max_depth':[5,8,10],\n",
    "    'min_child_weight':[1,3,5,7],\n",
    "    'gamma':[0.0,0.1,0.2,0.4],\n",
    "    'colsample_bytree':[0.3,0.4,0.7]\n",
    "}"
   ]
  },
  {
   "cell_type": "code",
   "execution_count": null,
   "id": "c5977f15",
   "metadata": {},
   "outputs": [],
   "source": [
    "from sklearn.model_selection import RandomizedSearchCV"
   ]
  },
  {
   "cell_type": "code",
   "execution_count": null,
   "id": "9ad67d99",
   "metadata": {},
   "outputs": [],
   "source": [
    "classifer=XGBClassifier()"
   ]
  },
  {
   "cell_type": "code",
   "execution_count": null,
   "id": "868ab27e",
   "metadata": {},
   "outputs": [],
   "source": [
    "random_search=RandomizedSearchCV(classifer,param_distributions=params,n_iter=5,scoring='roc_auc',n_jobs=-1,cv=5,verbose=3)"
   ]
  },
  {
   "cell_type": "code",
   "execution_count": null,
   "id": "e5abbb3b",
   "metadata": {},
   "outputs": [],
   "source": [
    "random_search.fit(X_train,y_train)"
   ]
  },
  {
   "cell_type": "code",
   "execution_count": null,
   "id": "810dce92",
   "metadata": {},
   "outputs": [],
   "source": [
    "random_search.best_estimator_"
   ]
  },
  {
   "cell_type": "code",
   "execution_count": null,
   "id": "61b86326",
   "metadata": {},
   "outputs": [],
   "source": [
    "random_search.best_params_"
   ]
  },
  {
   "cell_type": "code",
   "execution_count": null,
   "id": "5ba5c8a3",
   "metadata": {},
   "outputs": [],
   "source": [
    "classifier=XGBClassifier(base_score=0.5, booster='gbtree', colsample_bylevel=1,\n",
    "              colsample_bynode=1, colsample_bytree=0.4, gamma=0.2, gpu_id=-1,\n",
    "              importance_type='gain', interaction_constraints='',\n",
    "              learning_rate=0.25, max_delta_step=0, max_depth=8,\n",
    "              min_child_weight=1, monotone_constraints='()',\n",
    "              n_estimators=100, n_jobs=4, num_parallel_tree=1, random_state=0,\n",
    "              reg_alpha=0, reg_lambda=1, scale_pos_weight=1, subsample=1,\n",
    "              tree_method='exact', validate_parameters=1, verbosity=None)"
   ]
  },
  {
   "cell_type": "code",
   "execution_count": null,
   "id": "e00472ee",
   "metadata": {},
   "outputs": [],
   "source": [
    "classifier.fit(X_train,y_train)"
   ]
  },
  {
   "cell_type": "code",
   "execution_count": null,
   "id": "16eb496a",
   "metadata": {},
   "outputs": [],
   "source": [
    "y_pred=classifier.predict(X_test)"
   ]
  },
  {
   "cell_type": "code",
   "execution_count": null,
   "id": "1616752e",
   "metadata": {},
   "outputs": [],
   "source": [
    "y_pred"
   ]
  },
  {
   "cell_type": "code",
   "execution_count": null,
   "id": "06627fd2",
   "metadata": {},
   "outputs": [],
   "source": [
    "from sklearn.metrics import confusion_matrix,accuracy_score"
   ]
  },
  {
   "cell_type": "code",
   "execution_count": null,
   "id": "93b0b0f7",
   "metadata": {},
   "outputs": [],
   "source": [
    "confusion_matrix(y_test,y_pred)"
   ]
  },
  {
   "cell_type": "code",
   "execution_count": null,
   "id": "23d77c87",
   "metadata": {},
   "outputs": [],
   "source": [
    "accuracy_score(y_test,y_pred)"
   ]
  },
  {
   "cell_type": "code",
   "execution_count": null,
   "id": "efe61640",
   "metadata": {},
   "outputs": [],
   "source": []
  }
 ],
 "metadata": {
  "kernelspec": {
   "display_name": "Python 3",
   "language": "python",
   "name": "python3"
  },
  "language_info": {
   "codemirror_mode": {
    "name": "ipython",
    "version": 3
   },
   "file_extension": ".py",
   "mimetype": "text/x-python",
   "name": "python",
   "nbconvert_exporter": "python",
   "pygments_lexer": "ipython3",
   "version": "3.9.4"
  }
 },
 "nbformat": 4,
 "nbformat_minor": 5
}
